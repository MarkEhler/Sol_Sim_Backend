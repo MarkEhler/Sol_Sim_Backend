{
 "cells": [
  {
   "cell_type": "markdown",
   "metadata": {},
   "source": [
    "<h4> W/m^2 Model </h4>\n",
    "\n",
    "this module is to be used in conjunction with the solar data provided from the Data_collection.ipynb and API_calls.ipynp modules and fed into the Dashboard.ipynp module to predict the current and historic data Watt per meter squared production of a user defined location."
   ]
  },
  {
   "cell_type": "code",
   "execution_count": 1,
   "metadata": {},
   "outputs": [],
   "source": [
    "from sklearn.model_selection import train_test_split, GridSearchCV\n",
    "from sklearn.tree import DecisionTreeRegressor \n",
    "from sklearn.ensemble import RandomForestRegressor, GradientBoostingRegressor, AdaBoostRegressor\n",
    "from sklearn.metrics import r2_score, mean_absolute_error, explained_variance_score\n",
    "import sklearn.preprocessing as preprocessing\n",
    " \n",
    "import pandas as pd\n",
    "import numpy as np\n",
    "\n",
    "import matplotlib.pyplot as plt\n",
    "\n",
    "import pickle"
   ]
  },
  {
   "cell_type": "code",
   "execution_count": 15,
   "metadata": {},
   "outputs": [],
   "source": [
    "data = pd.read_csv('Final_df.csv', sep= \"\\t\")"
   ]
  },
  {
   "cell_type": "code",
   "execution_count": 16,
   "metadata": {},
   "outputs": [
    {
     "name": "stdout",
     "output_type": "stream",
     "text": [
      "(2563478, 8)\n"
     ]
    },
    {
     "data": {
      "text/html": [
       "<div>\n",
       "<style scoped>\n",
       "    .dataframe tbody tr th:only-of-type {\n",
       "        vertical-align: middle;\n",
       "    }\n",
       "\n",
       "    .dataframe tbody tr th {\n",
       "        vertical-align: top;\n",
       "    }\n",
       "\n",
       "    .dataframe thead th {\n",
       "        text-align: right;\n",
       "    }\n",
       "</style>\n",
       "<table border=\"1\" class=\"dataframe\">\n",
       "  <thead>\n",
       "    <tr style=\"text-align: right;\">\n",
       "      <th></th>\n",
       "      <th>Zenith Angle [degrees]</th>\n",
       "      <th>Azimuth Angle [degrees]</th>\n",
       "      <th>Latitude [deg]</th>\n",
       "      <th>Longitude [deg]</th>\n",
       "      <th>Temp [deg C]</th>\n",
       "      <th>Minutes</th>\n",
       "      <th>Direct Irradiance [W/m^2]</th>\n",
       "      <th>Global Irradiance [W/m^2]</th>\n",
       "    </tr>\n",
       "  </thead>\n",
       "  <tbody>\n",
       "    <tr>\n",
       "      <th>0</th>\n",
       "      <td>124.102</td>\n",
       "      <td>358.791</td>\n",
       "      <td>39.75685</td>\n",
       "      <td>104.62025</td>\n",
       "      <td>18.08</td>\n",
       "      <td>0.0</td>\n",
       "      <td>-1.000000</td>\n",
       "      <td>-1.0</td>\n",
       "    </tr>\n",
       "    <tr>\n",
       "      <th>1</th>\n",
       "      <td>124.105</td>\n",
       "      <td>359.082</td>\n",
       "      <td>39.75685</td>\n",
       "      <td>104.62025</td>\n",
       "      <td>18.14</td>\n",
       "      <td>1.0</td>\n",
       "      <td>-1.000000</td>\n",
       "      <td>-1.0</td>\n",
       "    </tr>\n",
       "    <tr>\n",
       "      <th>2</th>\n",
       "      <td>124.108</td>\n",
       "      <td>359.372</td>\n",
       "      <td>39.75685</td>\n",
       "      <td>104.62025</td>\n",
       "      <td>18.17</td>\n",
       "      <td>2.0</td>\n",
       "      <td>-0.712310</td>\n",
       "      <td>-1.0</td>\n",
       "    </tr>\n",
       "    <tr>\n",
       "      <th>3</th>\n",
       "      <td>124.109</td>\n",
       "      <td>359.659</td>\n",
       "      <td>39.75685</td>\n",
       "      <td>104.62025</td>\n",
       "      <td>18.20</td>\n",
       "      <td>3.0</td>\n",
       "      <td>-0.396415</td>\n",
       "      <td>-1.0</td>\n",
       "    </tr>\n",
       "    <tr>\n",
       "      <th>4</th>\n",
       "      <td>124.110</td>\n",
       "      <td>359.952</td>\n",
       "      <td>39.75685</td>\n",
       "      <td>104.62025</td>\n",
       "      <td>18.21</td>\n",
       "      <td>4.0</td>\n",
       "      <td>-0.371638</td>\n",
       "      <td>-1.0</td>\n",
       "    </tr>\n",
       "  </tbody>\n",
       "</table>\n",
       "</div>"
      ],
      "text/plain": [
       "   Zenith Angle [degrees]  Azimuth Angle [degrees]  Latitude [deg]  \\\n",
       "0                 124.102                  358.791        39.75685   \n",
       "1                 124.105                  359.082        39.75685   \n",
       "2                 124.108                  359.372        39.75685   \n",
       "3                 124.109                  359.659        39.75685   \n",
       "4                 124.110                  359.952        39.75685   \n",
       "\n",
       "   Longitude [deg]  Temp [deg C]  Minutes  Direct Irradiance [W/m^2]  \\\n",
       "0        104.62025         18.08      0.0                  -1.000000   \n",
       "1        104.62025         18.14      1.0                  -1.000000   \n",
       "2        104.62025         18.17      2.0                  -0.712310   \n",
       "3        104.62025         18.20      3.0                  -0.396415   \n",
       "4        104.62025         18.21      4.0                  -0.371638   \n",
       "\n",
       "   Global Irradiance [W/m^2]  \n",
       "0                       -1.0  \n",
       "1                       -1.0  \n",
       "2                       -1.0  \n",
       "3                       -1.0  \n",
       "4                       -1.0  "
      ]
     },
     "execution_count": 16,
     "metadata": {},
     "output_type": "execute_result"
    }
   ],
   "source": [
    "print(data.shape)\n",
    "data.head(5)"
   ]
  },
  {
   "cell_type": "code",
   "execution_count": 18,
   "metadata": {},
   "outputs": [
    {
     "data": {
      "text/plain": [
       "(1724754, 8)"
      ]
     },
     "execution_count": 18,
     "metadata": {},
     "output_type": "execute_result"
    }
   ],
   "source": [
    "day_data = data[(data['Minutes'] > 350) & (data['Minutes'] < 2000)]\n",
    "day_data.shape"
   ]
  },
  {
   "cell_type": "code",
   "execution_count": 5,
   "metadata": {},
   "outputs": [
    {
     "data": {
      "text/html": [
       "<div>\n",
       "<style scoped>\n",
       "    .dataframe tbody tr th:only-of-type {\n",
       "        vertical-align: middle;\n",
       "    }\n",
       "\n",
       "    .dataframe tbody tr th {\n",
       "        vertical-align: top;\n",
       "    }\n",
       "\n",
       "    .dataframe thead th {\n",
       "        text-align: right;\n",
       "    }\n",
       "</style>\n",
       "<table border=\"1\" class=\"dataframe\">\n",
       "  <thead>\n",
       "    <tr style=\"text-align: right;\">\n",
       "      <th></th>\n",
       "      <th>Zenith Angle [degrees]</th>\n",
       "      <th>Azimuth Angle [degrees]</th>\n",
       "      <th>Latitude [deg]</th>\n",
       "      <th>Longitude [deg]</th>\n",
       "      <th>Temp [deg C]</th>\n",
       "      <th>Minutes</th>\n",
       "      <th>Direct Irradiance [W/m^2]</th>\n",
       "      <th>Global Irradiance [W/m^2]</th>\n",
       "    </tr>\n",
       "  </thead>\n",
       "  <tbody>\n",
       "    <tr>\n",
       "      <th>count</th>\n",
       "      <td>2.563478e+06</td>\n",
       "      <td>2.563478e+06</td>\n",
       "      <td>2.563478e+06</td>\n",
       "      <td>2.563478e+06</td>\n",
       "      <td>2.563478e+06</td>\n",
       "      <td>2.563478e+06</td>\n",
       "      <td>2.563478e+06</td>\n",
       "      <td>2.563478e+06</td>\n",
       "    </tr>\n",
       "    <tr>\n",
       "      <th>mean</th>\n",
       "      <td>8.959049e+01</td>\n",
       "      <td>1.799902e+02</td>\n",
       "      <td>3.466432e+01</td>\n",
       "      <td>1.215564e+02</td>\n",
       "      <td>1.495563e+01</td>\n",
       "      <td>1.179271e+03</td>\n",
       "      <td>2.106644e+02</td>\n",
       "      <td>2.022111e+02</td>\n",
       "    </tr>\n",
       "    <tr>\n",
       "      <th>std</th>\n",
       "      <td>3.875137e+01</td>\n",
       "      <td>1.000177e+02</td>\n",
       "      <td>7.350955e+00</td>\n",
       "      <td>2.028059e+01</td>\n",
       "      <td>1.076150e+01</td>\n",
       "      <td>6.923992e+02</td>\n",
       "      <td>3.501749e+02</td>\n",
       "      <td>2.987023e+02</td>\n",
       "    </tr>\n",
       "    <tr>\n",
       "      <th>min</th>\n",
       "      <td>6.900000e-02</td>\n",
       "      <td>0.000000e+00</td>\n",
       "      <td>2.076685e+01</td>\n",
       "      <td>7.621600e+01</td>\n",
       "      <td>-2.888000e+01</td>\n",
       "      <td>0.000000e+00</td>\n",
       "      <td>-1.000000e+00</td>\n",
       "      <td>-1.000000e+00</td>\n",
       "    </tr>\n",
       "    <tr>\n",
       "      <th>25%</th>\n",
       "      <td>5.895377e+01</td>\n",
       "      <td>8.950000e+01</td>\n",
       "      <td>3.541861e+01</td>\n",
       "      <td>1.080883e+02</td>\n",
       "      <td>8.750000e+00</td>\n",
       "      <td>5.590000e+02</td>\n",
       "      <td>0.000000e+00</td>\n",
       "      <td>-1.000000e+00</td>\n",
       "    </tr>\n",
       "    <tr>\n",
       "      <th>50%</th>\n",
       "      <td>8.930000e+01</td>\n",
       "      <td>1.799275e+02</td>\n",
       "      <td>3.610700e+01</td>\n",
       "      <td>1.151425e+02</td>\n",
       "      <td>1.606000e+01</td>\n",
       "      <td>1.159000e+03</td>\n",
       "      <td>0.000000e+00</td>\n",
       "      <td>3.293565e+00</td>\n",
       "    </tr>\n",
       "    <tr>\n",
       "      <th>75%</th>\n",
       "      <td>1.203495e+02</td>\n",
       "      <td>2.705000e+02</td>\n",
       "      <td>3.975685e+01</td>\n",
       "      <td>1.240800e+02</td>\n",
       "      <td>2.223000e+01</td>\n",
       "      <td>1.759000e+03</td>\n",
       "      <td>3.931140e+02</td>\n",
       "      <td>3.415623e+02</td>\n",
       "    </tr>\n",
       "    <tr>\n",
       "      <th>max</th>\n",
       "      <td>1.799000e+02</td>\n",
       "      <td>3.600000e+02</td>\n",
       "      <td>4.087600e+01</td>\n",
       "      <td>1.569229e+02</td>\n",
       "      <td>4.399000e+01</td>\n",
       "      <td>2.359000e+03</td>\n",
       "      <td>2.224100e+03</td>\n",
       "      <td>1.495270e+03</td>\n",
       "    </tr>\n",
       "  </tbody>\n",
       "</table>\n",
       "</div>"
      ],
      "text/plain": [
       "       Zenith Angle [degrees]  Azimuth Angle [degrees]  Latitude [deg]  \\\n",
       "count            2.563478e+06             2.563478e+06    2.563478e+06   \n",
       "mean             8.959049e+01             1.799902e+02    3.466432e+01   \n",
       "std              3.875137e+01             1.000177e+02    7.350955e+00   \n",
       "min              6.900000e-02             0.000000e+00    2.076685e+01   \n",
       "25%              5.895377e+01             8.950000e+01    3.541861e+01   \n",
       "50%              8.930000e+01             1.799275e+02    3.610700e+01   \n",
       "75%              1.203495e+02             2.705000e+02    3.975685e+01   \n",
       "max              1.799000e+02             3.600000e+02    4.087600e+01   \n",
       "\n",
       "       Longitude [deg]  Temp [deg C]       Minutes  Direct Irradiance [W/m^2]  \\\n",
       "count     2.563478e+06  2.563478e+06  2.563478e+06               2.563478e+06   \n",
       "mean      1.215564e+02  1.495563e+01  1.179271e+03               2.106644e+02   \n",
       "std       2.028059e+01  1.076150e+01  6.923992e+02               3.501749e+02   \n",
       "min       7.621600e+01 -2.888000e+01  0.000000e+00              -1.000000e+00   \n",
       "25%       1.080883e+02  8.750000e+00  5.590000e+02               0.000000e+00   \n",
       "50%       1.151425e+02  1.606000e+01  1.159000e+03               0.000000e+00   \n",
       "75%       1.240800e+02  2.223000e+01  1.759000e+03               3.931140e+02   \n",
       "max       1.569229e+02  4.399000e+01  2.359000e+03               2.224100e+03   \n",
       "\n",
       "       Global Irradiance [W/m^2]  \n",
       "count               2.563478e+06  \n",
       "mean                2.022111e+02  \n",
       "std                 2.987023e+02  \n",
       "min                -1.000000e+00  \n",
       "25%                -1.000000e+00  \n",
       "50%                 3.293565e+00  \n",
       "75%                 3.415623e+02  \n",
       "max                 1.495270e+03  "
      ]
     },
     "execution_count": 5,
     "metadata": {},
     "output_type": "execute_result"
    }
   ],
   "source": [
    "data.describe()"
   ]
  },
  {
   "cell_type": "code",
   "execution_count": 12,
   "metadata": {},
   "outputs": [
    {
     "data": {
      "image/png": "[encoded data removed]",
      "text/plain": [
       "<Figure size 2160x1440 with 9 Axes>"
      ]
     },
     "metadata": {
      "needs_background": "light"
     },
     "output_type": "display_data"
    }
   ],
   "source": [
    "feat = data.loc[:, 'Zenith Angle [degrees]':'Global Irradiance [W/m^2]']\n",
    "feat.hist(figsize=(30,20), bins=20);"
   ]
  },
  {
   "cell_type": "code",
   "execution_count": 7,
   "metadata": {},
   "outputs": [
    {
     "data": {
      "image/png": "[encoded data removed]",
      "text/plain": [
       "<Figure size 2160x1440 with 9 Axes>"
      ]
     },
     "metadata": {
      "needs_background": "light"
     },
     "output_type": "display_data"
    }
   ],
   "source": [
    "feat = day_data.loc[:, 'Zenith Angle [degrees]':'Global Irradiance [W/m^2]']\n",
    "feat.hist(figsize=(30,20), bins=20);"
   ]
  },
  {
   "cell_type": "code",
   "execution_count": 8,
   "metadata": {},
   "outputs": [
    {
     "data": {
      "image/png": "[encoded data removed]",
      "text/plain": [
       "<Figure size 720x720 with 1 Axes>"
      ]
     },
     "metadata": {
      "needs_background": "light"
     },
     "output_type": "display_data"
    },
    {
     "data": {
      "image/png": "[encoded data removed]",
      "text/plain": [
       "<Figure size 720x720 with 1 Axes>"
      ]
     },
     "metadata": {
      "needs_background": "light"
     },
     "output_type": "display_data"
    },
    {
     "data": {
      "image/png": "[encoded data removed]",
      "text/plain": [
       "<Figure size 720x720 with 1 Axes>"
      ]
     },
     "metadata": {
      "needs_background": "light"
     },
     "output_type": "display_data"
    },
    {
     "data": {
      "image/png": "[encoded data removed]",
      "text/plain": [
       "<Figure size 720x720 with 1 Axes>"
      ]
     },
     "metadata": {
      "needs_background": "light"
     },
     "output_type": "display_data"
    },
    {
     "data": {
      "image/png": "[encoded data removed]",
      "text/plain": [
       "<Figure size 720x720 with 1 Axes>"
      ]
     },
     "metadata": {
      "needs_background": "light"
     },
     "output_type": "display_data"
    },
    {
     "data": {
      "image/png": "[encoded data removed]",
      "text/plain": [
       "<Figure size 720x720 with 1 Axes>"
      ]
     },
     "metadata": {
      "needs_background": "light"
     },
     "output_type": "display_data"
    },
    {
     "data": {
      "image/png": "[encoded data removed]",
      "text/plain": [
       "<Figure size 720x720 with 1 Axes>"
      ]
     },
     "metadata": {
      "needs_background": "light"
     },
     "output_type": "display_data"
    },
    {
     "data": {
      "image/png": "[encoded data removed]",
      "text/plain": [
       "<Figure size 720x720 with 1 Axes>"
      ]
     },
     "metadata": {
      "needs_background": "light"
     },
     "output_type": "display_data"
    }
   ],
   "source": [
    "for f in feat:\n",
    "    pd.DataFrame(day_data[f]).boxplot(figsize=(10,10));\n",
    "    plt.show();"
   ]
  },
  {
   "cell_type": "code",
   "execution_count": 10,
   "metadata": {},
   "outputs": [
    {
     "ename": "AttributeError",
     "evalue": "'AxesSubplot' object has no attribute 'savefig'",
     "output_type": "error",
     "traceback": [
      "\u001b[1;31m---------------------------------------------------------------------------\u001b[0m",
      "\u001b[1;31mAttributeError\u001b[0m                            Traceback (most recent call last)",
      "\u001b[1;32m<ipython-input-10-d6a7d3345199>\u001b[0m in \u001b[0;36m<module>\u001b[1;34m\u001b[0m\n\u001b[0;32m      1\u001b[0m \u001b[1;32mimport\u001b[0m \u001b[0mseaborn\u001b[0m \u001b[1;32mas\u001b[0m \u001b[0msns\u001b[0m\u001b[1;33m\u001b[0m\u001b[1;33m\u001b[0m\u001b[0m\n\u001b[0;32m      2\u001b[0m \u001b[0mheat\u001b[0m \u001b[1;33m=\u001b[0m \u001b[0msns\u001b[0m\u001b[1;33m.\u001b[0m\u001b[0mheatmap\u001b[0m\u001b[1;33m(\u001b[0m\u001b[0mfeat\u001b[0m\u001b[1;33m.\u001b[0m\u001b[0mcorr\u001b[0m\u001b[1;33m(\u001b[0m\u001b[1;33m)\u001b[0m\u001b[1;33m,\u001b[0m \u001b[0mcenter\u001b[0m\u001b[1;33m=\u001b[0m\u001b[1;36m0\u001b[0m\u001b[1;33m)\u001b[0m\u001b[1;33m;\u001b[0m\u001b[1;33m\u001b[0m\u001b[1;33m\u001b[0m\u001b[0m\n\u001b[1;32m----> 3\u001b[1;33m \u001b[0mheat\u001b[0m\u001b[1;33m.\u001b[0m\u001b[0msavefig\u001b[0m\u001b[1;33m(\u001b[0m\u001b[1;34m'heatmap.png'\u001b[0m\u001b[1;33m)\u001b[0m\u001b[1;33m\u001b[0m\u001b[1;33m\u001b[0m\u001b[0m\n\u001b[0m",
      "\u001b[1;31mAttributeError\u001b[0m: 'AxesSubplot' object has no attribute 'savefig'"
     ]
    },
    {
     "data": {
      "image/png": "[encoded data removed]",
      "text/plain": [
       "<Figure size 432x288 with 2 Axes>"
      ]
     },
     "metadata": {
      "needs_background": "light"
     },
     "output_type": "display_data"
    }
   ],
   "source": [
    "import seaborn as sns\n",
    "heat = sns.heatmap(feat.corr(), center=0);\n",
    "heat.savefig('heatmap.png')"
   ]
  },
  {
   "cell_type": "markdown",
   "metadata": {},
   "source": [
    "<h3> 1st Iteration: Basic Decision Tree </h3>"
   ]
  },
  {
   "cell_type": "code",
   "execution_count": 76,
   "metadata": {},
   "outputs": [
    {
     "name": "stdout",
     "output_type": "stream",
     "text": [
      "(2563478, 8)\n"
     ]
    },
    {
     "data": {
      "text/plain": [
       "1807876    1495.27\n",
       "2320221    1493.66\n",
       "413924     1480.49\n",
       "2282816    1476.59\n",
       "989938     1473.50\n",
       "1956180    1470.26\n",
       "1856908    1463.73\n",
       "925166     1455.90\n",
       "1770474    1450.86\n",
       "1721565    1448.87\n",
       "Name: Global Irradiance [W/m^2], dtype: float64"
      ]
     },
     "execution_count": 76,
     "metadata": {},
     "output_type": "execute_result"
    }
   ],
   "source": [
    "# On the bar and box plots it looks like we have extreme outliers.  \n",
    "# I don't think this is too unreasonable for a set 2m strong and will leave them in.\n",
    "print(data.shape)\n",
    "data['Global Irradiance [W/m^2]'].sort_values(ascending=False).head(10)"
   ]
  },
  {
   "cell_type": "code",
   "execution_count": 9,
   "metadata": {},
   "outputs": [
    {
     "data": {
      "text/plain": [
       "Index(['Zenith Angle [degrees]', 'Azimuth Angle [degrees]', 'Latitude [deg]',\n",
       "       'Longitude [deg]', 'Temp [deg C]', 'Minutes',\n",
       "       'Direct Irradiance [W/m^2]', 'Global Irradiance [W/m^2]'],\n",
       "      dtype='object')"
      ]
     },
     "execution_count": 9,
     "metadata": {},
     "output_type": "execute_result"
    }
   ],
   "source": [
    "cols"
   ]
  },
  {
   "cell_type": "code",
   "execution_count": 9,
   "metadata": {},
   "outputs": [],
   "source": [
    "'''\n",
    "defining subsets of data for alternate models\n",
    "'''\n",
    "\n",
    "# No Times\n",
    "\n",
    "no_times = day_data.drop(['Minutes', 'Direct Irradiance [W/m^2]'],\n",
    "                        axis = 1)\n",
    "\n",
    "# No Temps\n",
    "\n",
    "no_temps = data.drop(['Temp [deg C]', 'Direct Irradiance [W/m^2]'],\n",
    "                    axis = 1)\n",
    "\n",
    "# Solar Angles Only\n",
    "\n",
    "solar = data['Zenith Angle [degrees]']\n",
    "solar['Azimuth Angle [degrees]'] = data['Zenith Angle [degrees]']"
   ]
  },
  {
   "cell_type": "code",
   "execution_count": 10,
   "metadata": {},
   "outputs": [
    {
     "data": {
      "text/plain": [
       "dict_keys(['global', 'direct'])"
      ]
     },
     "execution_count": 10,
     "metadata": {},
     "output_type": "execute_result"
    }
   ],
   "source": [
    "'''\n",
    "Two possible target variables:\n",
    "Direct Irradiance should have a stronger correlation with peak sunlight hours\n",
    "Global Irradiance should account for more features in the eco system.\n",
    "I might want to engineer a model that can account for both.  I might want to run either and choose the better predictor.\n",
    "'''\n",
    "\n",
    "# Global\n",
    "X_g = data.drop(['Global Irradiance [W/m^2]', 'Direct Irradiance [W/m^2]'],axis = 1)\n",
    "y_g = data['Global Irradiance [W/m^2]']\n",
    "\n",
    "# Direct\n",
    "X_d = data.drop(['Global Irradiance [W/m^2]', 'Direct Irradiance [W/m^2]'],axis = 1)\n",
    "y_d = data['Direct Irradiance [W/m^2]']\n",
    "\n",
    "targets = {'global': [X_g, y_g], 'direct': [X_d, y_d]}\n",
    "targets.keys()"
   ]
  },
  {
   "cell_type": "code",
   "execution_count": 14,
   "metadata": {},
   "outputs": [
    {
     "ename": "NameError",
     "evalue": "name 'no_times' is not defined",
     "output_type": "error",
     "traceback": [
      "\u001b[1;31m-----------------------------------------------------------------------\u001b[0m",
      "\u001b[1;31mNameError\u001b[0m                             Traceback (most recent call last)",
      "\u001b[1;32m<ipython-input-14-75f971964307>\u001b[0m in \u001b[0;36m<module>\u001b[1;34m\u001b[0m\n\u001b[0;32m      4\u001b[0m \u001b[1;33m\u001b[0m\u001b[0m\n\u001b[0;32m      5\u001b[0m \u001b[1;31m# No Times Global\u001b[0m\u001b[1;33m\u001b[0m\u001b[1;33m\u001b[0m\u001b[1;33m\u001b[0m\u001b[0m\n\u001b[1;32m----> 6\u001b[1;33m \u001b[0mX_nt\u001b[0m \u001b[1;33m=\u001b[0m \u001b[0mno_times\u001b[0m\u001b[1;33m.\u001b[0m\u001b[0mdrop\u001b[0m\u001b[1;33m(\u001b[0m\u001b[1;33m[\u001b[0m\u001b[1;34m'Global Irradiance [W/m^2]'\u001b[0m\u001b[1;33m]\u001b[0m\u001b[1;33m,\u001b[0m \u001b[0maxis\u001b[0m \u001b[1;33m=\u001b[0m \u001b[1;36m1\u001b[0m\u001b[1;33m)\u001b[0m\u001b[1;33m\u001b[0m\u001b[1;33m\u001b[0m\u001b[0m\n\u001b[0m\u001b[0;32m      7\u001b[0m \u001b[0my_nt\u001b[0m \u001b[1;33m=\u001b[0m \u001b[0mno_times\u001b[0m\u001b[1;33m[\u001b[0m\u001b[1;34m'Global Irradiance [W/m^2]'\u001b[0m\u001b[1;33m]\u001b[0m\u001b[1;33m\u001b[0m\u001b[1;33m\u001b[0m\u001b[0m\n\u001b[0;32m      8\u001b[0m \u001b[1;33m\u001b[0m\u001b[0m\n",
      "\u001b[1;31mNameError\u001b[0m: name 'no_times' is not defined"
     ]
    }
   ],
   "source": [
    "# Day Global\n",
    "X_d = day_data.drop(['Global Irradiance [W/m^2]', 'Direct Irradiance [W/m^2]'],axis = 1)\n",
    "y_d = day_data['Global Irradiance [W/m^2]']\n",
    "\n",
    "# No Times Global\n",
    "X_nt = no_times.drop(['Global Irradiance [W/m^2]'], axis = 1)\n",
    "y_nt = no_times['Global Irradiance [W/m^2]']\n",
    "\n",
    "# no temps\n",
    "X_d_nT = X_d.drop(['Temp [deg C]'], axis = 1)\n",
    "y_d_nT = y_d"
   ]
  },
  {
   "cell_type": "markdown",
   "metadata": {},
   "source": [
    "<h3> Preprocessing options </h3>\n",
    "\n",
    "multiple variables will be set and tested in order to try different versions of the models.  Several iterations will be run to see which fits the test data best and which works best with real life data as second test."
   ]
  },
  {
   "cell_type": "code",
   "execution_count": 40,
   "metadata": {},
   "outputs": [],
   "source": [
    "minmax = preprocessing.MinMaxScaler()\n",
    "X_norm = minmax.fit_transform(X_nt)\n",
    "scaler = minmax.fit(targets['global'][0])"
   ]
  },
  {
   "cell_type": "code",
   "execution_count": 6,
   "metadata": {},
   "outputs": [
    {
     "name": "stdout",
     "output_type": "stream",
     "text": [
      "(1794434, 6) (1794434,)\n",
      "(769044, 6) (769044,)\n"
     ]
    }
   ],
   "source": [
    "x_tr, x_ts, y_tr, y_ts = train_test_split(X_norm, targets['global'][1], test_size= 0.3)\n",
    "print(x_tr.shape, y_tr.shape)\n",
    "print(x_ts.shape, y_ts.shape)"
   ]
  },
  {
   "cell_type": "markdown",
   "metadata": {},
   "source": [
    "<h4> Standard Scaler </h4>"
   ]
  },
  {
   "cell_type": "code",
   "execution_count": 107,
   "metadata": {},
   "outputs": [],
   "source": [
    "ss = preprocessing.StandardScaler()\n",
    "X_scale = ss.fit_transform(X_d)\n",
    "ss_scaler = ss.fit(X_d)\n",
    "x_tr, x_ts, y_tr, y_ts = train_test_split(X_scale, y_d, test_size= 0.3)"
   ]
  },
  {
   "cell_type": "code",
   "execution_count": 16,
   "metadata": {},
   "outputs": [],
   "source": [
    "reg_tree = DecisionTreeRegressor()"
   ]
  },
  {
   "cell_type": "code",
   "execution_count": 17,
   "metadata": {},
   "outputs": [
    {
     "name": "stdout",
     "output_type": "stream",
     "text": [
      "Wall time: 21.4 s\n"
     ]
    },
    {
     "data": {
      "text/plain": [
       "DecisionTreeRegressor(criterion='mse', max_depth=None, max_features=None,\n",
       "           max_leaf_nodes=None, min_impurity_decrease=0.0,\n",
       "           min_impurity_split=None, min_samples_leaf=1,\n",
       "           min_samples_split=2, min_weight_fraction_leaf=0.0,\n",
       "           presort=False, random_state=None, splitter='best')"
      ]
     },
     "execution_count": 17,
     "metadata": {},
     "output_type": "execute_result"
    }
   ],
   "source": [
    "%%time\n",
    "\n",
    "reg_tree.fit(x_tr, y_tr)"
   ]
  },
  {
   "cell_type": "code",
   "execution_count": 18,
   "metadata": {},
   "outputs": [
    {
     "name": "stdout",
     "output_type": "stream",
     "text": [
      "Coefficent of determination 0.8804379117325533\n"
     ]
    }
   ],
   "source": [
    "print(f'Coefficent of determination {reg_tree.score(x_ts, y_ts)}')"
   ]
  },
  {
   "cell_type": "code",
   "execution_count": 19,
   "metadata": {},
   "outputs": [
    {
     "data": {
      "text/plain": [
       "Index(['Zenith Angle [degrees]', 'Azimuth Angle [degrees]', 'Latitude [deg]',\n",
       "       'Longitude [deg]', 'Temp [deg C]', 'Minutes'],\n",
       "      dtype='object')"
      ]
     },
     "execution_count": 19,
     "metadata": {},
     "output_type": "execute_result"
    }
   ],
   "source": [
    "targets['global'][0].columns"
   ]
  },
  {
   "cell_type": "code",
   "execution_count": 20,
   "metadata": {},
   "outputs": [
    {
     "data": {
      "text/plain": [
       "array([0.81626838, 0.05041357, 0.0063045 , 0.02186492, 0.07651319,\n",
       "       0.02863544])"
      ]
     },
     "execution_count": 20,
     "metadata": {},
     "output_type": "execute_result"
    }
   ],
   "source": [
    "reg_tree.feature_importances_"
   ]
  },
  {
   "cell_type": "code",
   "execution_count": 22,
   "metadata": {},
   "outputs": [
    {
     "data": {
      "text/plain": [
       "array([[1.        , 0.94015641],\n",
       "       [0.94015641, 1.        ]])"
      ]
     },
     "execution_count": 22,
     "metadata": {},
     "output_type": "execute_result"
    }
   ],
   "source": [
    "y_pred = reg_tree.predict(x_ts)\n",
    "np.corrcoef(y_pred, y_ts)"
   ]
  },
  {
   "cell_type": "code",
   "execution_count": 34,
   "metadata": {},
   "outputs": [],
   "source": [
    "# memorizing training data because max_depth is set too high\n",
    "def cv_mse_plot(x, y, max_depth = 5, num = 15):\n",
    "    from sklearn.metrics import mean_squared_error\n",
    "    train_err = []\n",
    "    test_err = []\n",
    "    for i in range(num):\n",
    "        x_tr, x_ts, y_tr, y_ts = train_test_split(x, y, test_size= 0.3)\n",
    "        reg_tree = DecisionTreeRegressor(max_depth=max_depth)\n",
    "        reg_tree.fit(x_tr, y_tr)\n",
    "        y_hat_train = reg_tree.predict(x_tr)\n",
    "        y_hat_test = reg_tree.predict(x_ts)\n",
    "        train_err.append(mean_squared_error(y_tr, y_hat_train))\n",
    "        test_err.append(mean_squared_error(y_ts, y_hat_test))\n",
    "    plt.scatter(list(range(num)), train_err, label='Training Error')\n",
    "    plt.title(f'Error over {num} instances')\n",
    "    plt.scatter(list(range(num)), test_err, label='Testing Error')\n",
    "    plt.legend();\n",
    "    return reg_tree"
   ]
  },
  {
   "cell_type": "code",
   "execution_count": 36,
   "metadata": {},
   "outputs": [
    {
     "data": {
      "image/png": "[encoded data removed]",
      "text/plain": [
       "<Figure size 432x288 with 1 Axes>"
      ]
     },
     "metadata": {
      "needs_background": "light"
     },
     "output_type": "display_data"
    }
   ],
   "source": [
    "# Plot the results\n",
    "global_5 = cv_mse_plot(X_norm, targets['global'][1])"
   ]
  },
  {
   "cell_type": "code",
   "execution_count": 37,
   "metadata": {},
   "outputs": [
    {
     "data": {
      "image/png": "[encoded data removed]",
      "text/plain": [
       "<Figure size 432x288 with 1 Axes>"
      ]
     },
     "metadata": {
      "needs_background": "light"
     },
     "output_type": "display_data"
    }
   ],
   "source": [
    "golobal_3_depth = cv_mse_plot(X_norm, targets['global'][1], max_depth = 3)"
   ]
  },
  {
   "cell_type": "code",
   "execution_count": 38,
   "metadata": {},
   "outputs": [],
   "source": [
    "# golobal_3_depth = cv_mse_plot(X_norm, targets['global'][1], max_depth = 3)"
   ]
  },
  {
   "cell_type": "code",
   "execution_count": 39,
   "metadata": {},
   "outputs": [
    {
     "data": {
      "image/png": "[encoded data removed]",
      "text/plain": [
       "<Figure size 432x288 with 1 Axes>"
      ]
     },
     "metadata": {
      "needs_background": "light"
     },
     "output_type": "display_data"
    }
   ],
   "source": [
    "minmax = preprocessing.MinMaxScaler()\n",
    "X_norm = minmax.fit_transform(targets['direct'][0])\n",
    "direct_5_depth = cv_mse_plot(X_norm, targets['direct'][1])"
   ]
  },
  {
   "cell_type": "code",
   "execution_count": 40,
   "metadata": {},
   "outputs": [
    {
     "data": {
      "image/png": "[encoded data removed]",
      "text/plain": [
       "<Figure size 432x288 with 1 Axes>"
      ]
     },
     "metadata": {
      "needs_background": "light"
     },
     "output_type": "display_data"
    }
   ],
   "source": [
    "direct_3_depth = cv_mse_plot(X_norm, targets['direct'][1], max_depth = 3)"
   ]
  },
  {
   "cell_type": "markdown",
   "metadata": {},
   "source": [
    "The global irradiadiance looks to be fit better than the direct irradiance. <br><b> global irradiance will be used for the remainder of this module. </b>\n"
   ]
  },
  {
   "cell_type": "code",
   "execution_count": 46,
   "metadata": {},
   "outputs": [],
   "source": [
    "def cv_mse_scoring(model, x, y, num_cv = 10):\n",
    "    '''\n",
    "    takes several runs from the supplied data and model and averages the error\n",
    "    '''\n",
    "    from sklearn.model_selection import cross_val_score\n",
    "    x_tr, x_ts, y_tr, y_ts = train_test_split(x, y, test_size= 0.3)\n",
    "    y_pred = model.predict(x_ts)\n",
    "    \n",
    "    cv_results = np.mean(cross_val_score(model, x_tr, y_tr, cv=num_cv, scoring=\"neg_mean_squared_error\"))\n",
    "    cv_test_results = np.mean(cross_val_score(model, y_pred.reshape(-1, 1), y_ts, cv=num_cv, scoring=\"neg_mean_squared_error\"))\n",
    "    \n",
    "    ###MSE is the squared W/m^2 error\n",
    "    from math import sqrt\n",
    "    pos_MSE = -1*cv_results\n",
    "    Median_Error = sqrt(pos_MSE)\n",
    "    print(f'Average error of prediction model vs training data: {round(Median_Error, 2)}W/m^2')\n",
    "\n",
    "    pos_MSE_test = -1*cv_test_results\n",
    "    Median_Error = sqrt(pos_MSE_test)\n",
    "    print(f'Average error of prediction model vs test data: {round(Median_Error, 2)}W/m^2')"
   ]
  },
  {
   "cell_type": "code",
   "execution_count": 47,
   "metadata": {},
   "outputs": [
    {
     "name": "stdout",
     "output_type": "stream",
     "text": [
      "Average error of prediction model vs training data: 128.53W/m^2\n",
      "Average error of prediction model vs test data: 128.59W/m^2\n"
     ]
    }
   ],
   "source": [
    "cv_mse_scoring(global_5, X_norm, targets['global'][1])"
   ]
  },
  {
   "cell_type": "markdown",
   "metadata": {},
   "source": [
    "### 2nd Iteration : Decision Tree + Hyperparameters"
   ]
  },
  {
   "cell_type": "code",
   "execution_count": 57,
   "metadata": {},
   "outputs": [],
   "source": [
    "reg_tree2 = DecisionTreeRegressor()\n",
    "\n",
    "\n",
    "param_grid = {\n",
    "    \"criterion\": [\"mse\"],\n",
    "    \"max_depth\": [3, 4, 5, 6, 7],\n",
    "    \"min_samples_split\": [1.0, 5, 10, 20]\n",
    "}\n",
    "\n",
    "gs_tree = GridSearchCV(reg_tree2, param_grid, cv=3)"
   ]
  },
  {
   "cell_type": "code",
   "execution_count": 58,
   "metadata": {},
   "outputs": [
    {
     "data": {
      "text/plain": [
       "GridSearchCV(cv=3, error_score='raise-deprecating',\n",
       "       estimator=DecisionTreeRegressor(criterion='mse', max_depth=None, max_features=None,\n",
       "           max_leaf_nodes=None, min_impurity_decrease=0.0,\n",
       "           min_impurity_split=None, min_samples_leaf=1,\n",
       "           min_samples_split=2, min_weight_fraction_leaf=0.0,\n",
       "           presort=False, random_state=None, splitter='best'),\n",
       "       fit_params=None, iid='warn', n_jobs=None,\n",
       "       param_grid={'criterion': ['mse'], 'max_depth': [2, 3, 4, 5, 6], 'min_samples_split': [1.0, 5, 10, 20]},\n",
       "       pre_dispatch='2*n_jobs', refit=True, return_train_score='warn',\n",
       "       scoring=None, verbose=0)"
      ]
     },
     "execution_count": 58,
     "metadata": {},
     "output_type": "execute_result"
    }
   ],
   "source": [
    "gs_tree.fit(x_tr, y_tr)"
   ]
  },
  {
   "cell_type": "code",
   "execution_count": 59,
   "metadata": {},
   "outputs": [
    {
     "data": {
      "text/plain": [
       "0.8237713458379637"
      ]
     },
     "execution_count": 59,
     "metadata": {},
     "output_type": "execute_result"
    }
   ],
   "source": [
    "print(f'Coefficent of determination {gs_tree.best_score_}')"
   ]
  },
  {
   "cell_type": "code",
   "execution_count": 60,
   "metadata": {},
   "outputs": [
    {
     "data": {
      "text/plain": [
       "{'criterion': 'mse', 'max_depth': 6, 'min_samples_split': 5}"
      ]
     },
     "execution_count": 60,
     "metadata": {},
     "output_type": "execute_result"
    }
   ],
   "source": [
    "gs_tree.best_params_"
   ]
  },
  {
   "cell_type": "markdown",
   "metadata": {},
   "source": [
    "We take a bit of a hit on the accuracy as to be expected since our initial model was overfitting.  Now that we know that our max_depth should be around 5 We will try more powerful models and validate again later."
   ]
  },
  {
   "cell_type": "markdown",
   "metadata": {},
   "source": [
    "<h3> Random Forest </h3>"
   ]
  },
  {
   "cell_type": "code",
   "execution_count": 71,
   "metadata": {},
   "outputs": [],
   "source": [
    "forest_reg = RandomForestRegressor()\n",
    "\n",
    "param_grid = {\n",
    "    \"criterion\": [\"mse\"],\n",
    "    \"max_depth\" : [5,6,7,8],\n",
    "    \"max_features\" : ['auto'],\n",
    "    \"max_leaf_nodes\" : [None],\n",
    "    \"min_impurity_decrease\" : [0.0],\n",
    "    \"min_impurity_split\" : [None],\n",
    "    \"min_samples_leaf\" : [2,1],\n",
    "    \"min_samples_split\" : [4,6],\n",
    "    \"min_weight_fraction_leaf\" : [0.0],\n",
    "    \"n_estimators\" : [75,100],\n",
    "}\n",
    "\n",
    "grid_forest = GridSearchCV(forest_reg, param_grid, cv=3, n_jobs=5, verbose=2, scoring='r2')"
   ]
  },
  {
   "cell_type": "code",
   "execution_count": 72,
   "metadata": {},
   "outputs": [
    {
     "name": "stdout",
     "output_type": "stream",
     "text": [
      "Fitting 3 folds for each of 72 candidates, totalling 216 fits\n"
     ]
    },
    {
     "name": "stderr",
     "output_type": "stream",
     "text": [
      "[Parallel(n_jobs=5)]: Using backend LokyBackend with 5 concurrent workers.\n",
      "[Parallel(n_jobs=5)]: Done  31 tasks      | elapsed: 57.0min\n",
      "[Parallel(n_jobs=5)]: Done 152 tasks      | elapsed: 321.5min\n",
      "[Parallel(n_jobs=5)]: Done 216 out of 216 | elapsed: 501.6min finished\n"
     ]
    },
    {
     "name": "stdout",
     "output_type": "stream",
     "text": [
      "Wall time: 8h 29min 24s\n"
     ]
    },
    {
     "data": {
      "text/plain": [
       "GridSearchCV(cv=3, error_score='raise-deprecating',\n",
       "       estimator=RandomForestRegressor(bootstrap=True, criterion='mse', max_depth=None,\n",
       "           max_features='auto', max_leaf_nodes=None,\n",
       "           min_impurity_decrease=0.0, min_impurity_split=None,\n",
       "           min_samples_leaf=1, min_samples_split=2,\n",
       "           min_weight_fraction_leaf=0.0, n_estimators='warn', n_jobs=None,\n",
       "           oob_score=False, random_state=None, verbose=0, warm_start=False),\n",
       "       fit_params=None, iid='warn', n_jobs=5,\n",
       "       param_grid={'criterion': ['mse'], 'max_depth': [4, 5, 6, 7], 'max_features': ['auto'], 'max_leaf_nodes': [None], 'min_impurity_decrease': [0.0], 'min_impurity_split': [None], 'min_samples_leaf': [2, 1], 'min_samples_split': [4, 6, 8], 'min_weight_fraction_leaf': [0.0], 'n_estimators': [75, 100, 200]},\n",
       "       pre_dispatch='2*n_jobs', refit=True, return_train_score='warn',\n",
       "       scoring=None, verbose=2)"
      ]
     },
     "execution_count": 72,
     "metadata": {},
     "output_type": "execute_result"
    }
   ],
   "source": [
    "%%time\n",
    "grid_forest.fit(x_tr, y_tr)"
   ]
  },
  {
   "cell_type": "code",
   "execution_count": 73,
   "metadata": {},
   "outputs": [],
   "source": [
    "# save the model to disk\n",
    "filename = 'random_forest.sav'\n",
    "pickle.dump(grid_forest, open(filename, 'wb'))"
   ]
  },
  {
   "cell_type": "code",
   "execution_count": 75,
   "metadata": {},
   "outputs": [
    {
     "name": "stdout",
     "output_type": "stream",
     "text": [
      "Grid Search found the following optimal parameters: \n",
      "criterion: 'mse'\n",
      "max_depth: 7\n",
      "max_features: 'auto'\n",
      "max_leaf_nodes: None\n",
      "min_impurity_decrease: 0.0\n",
      "min_impurity_split: None\n",
      "min_samples_leaf: 1\n",
      "min_samples_split: 4\n",
      "min_weight_fraction_leaf: 0.0\n",
      "n_estimators: 75\n",
      "Explained variance 0.8340060672209564\n"
     ]
    }
   ],
   "source": [
    "best_parameters = grid_forest.best_params_\n",
    "\n",
    "print(\"Grid Search found the following optimal parameters: \")\n",
    "for param_name in sorted(best_parameters.keys()):\n",
    "    print(\"%s: %r\" % (param_name, best_parameters[param_name]))\n",
    "\n",
    "training_preds = grid_forest.predict(x_tr)\n",
    "val_preds = grid_forest.predict(x_ts)\n",
    "\n",
    "# Metrics\n",
    "# r2_score, mean_absolute_error, explained_variance_score\n",
    "print(f'Explained variance {explained_variance_score(y_ts, val_preds)}')"
   ]
  },
  {
   "cell_type": "code",
   "execution_count": 76,
   "metadata": {},
   "outputs": [
    {
     "data": {
      "text/plain": [
       "0.8340060672095044"
      ]
     },
     "execution_count": 76,
     "metadata": {},
     "output_type": "execute_result"
    }
   ],
   "source": [
    "r2 = r2_score(y_ts, val_preds)\n",
    "r2"
   ]
  },
  {
   "cell_type": "code",
   "execution_count": 82,
   "metadata": {},
   "outputs": [
    {
     "name": "stdout",
     "output_type": "stream",
     "text": [
      "The average difference between true values and predicted values is 62.036736115005695\n"
     ]
    }
   ],
   "source": [
    "print(f'The average difference between true values and predicted values is {mean_absolute_error(y_ts, val_preds)}')"
   ]
  },
  {
   "cell_type": "markdown",
   "metadata": {},
   "source": [
    "<h3> AdaBoost </h3>"
   ]
  },
  {
   "cell_type": "code",
   "execution_count": 85,
   "metadata": {},
   "outputs": [],
   "source": [
    "Ada_reg = AdaBoostRegressor(DecisionTreeRegressor(max_depth=7),\n",
    "                          n_estimators=75) # mirror best params from other model\n",
    "\n",
    "Ada_reg.fit(x_tr, y_tr)\n",
    "\n",
    "# Predict\n",
    "y_hat = Ada_reg.predict(x_ts)"
   ]
  },
  {
   "cell_type": "code",
   "execution_count": 86,
   "metadata": {},
   "outputs": [
    {
     "name": "stdout",
     "output_type": "stream",
     "text": [
      "Explained variance 0.7945267770577392\n"
     ]
    }
   ],
   "source": [
    "print(f'Explained variance {explained_variance_score(y_ts, y_hat)}')"
   ]
  },
  {
   "cell_type": "code",
   "execution_count": 87,
   "metadata": {},
   "outputs": [],
   "source": [
    "Ada_reg = AdaBoostRegressor(DecisionTreeRegressor(max_depth=4),\n",
    "                          n_estimators=100) # mirror best params from other model\n",
    "\n",
    "Ada_reg.fit(x_tr, y_tr)\n",
    "\n",
    "# Predict\n",
    "y_hat = Ada_reg.predict(x_ts)"
   ]
  },
  {
   "cell_type": "code",
   "execution_count": 88,
   "metadata": {},
   "outputs": [
    {
     "name": "stdout",
     "output_type": "stream",
     "text": [
      "Explained variance 0.7915657788726351\n"
     ]
    }
   ],
   "source": [
    "print(f'Explained variance {explained_variance_score(y_ts, y_hat)}')"
   ]
  },
  {
   "cell_type": "markdown",
   "metadata": {},
   "source": [
    "AdaBoost doesn't seem to preform very well compared to the previous models"
   ]
  },
  {
   "cell_type": "markdown",
   "metadata": {},
   "source": [
    "<h3> XGBoost </h3>"
   ]
  },
  {
   "cell_type": "code",
   "execution_count": 22,
   "metadata": {},
   "outputs": [],
   "source": [
    "import xgboost as xgb"
   ]
  },
  {
   "cell_type": "code",
   "execution_count": 10,
   "metadata": {},
   "outputs": [
    {
     "name": "stdout",
     "output_type": "stream",
     "text": [
      "['_Booster', '__class__', '__delattr__', '__dict__', '__dir__', '__doc__', '__eq__', '__format__', '__ge__', '__getattribute__', '__getstate__', '__gt__', '__hash__', '__init__', '__init_subclass__', '__le__', '__lt__', '__module__', '__ne__', '__new__', '__reduce__', '__reduce_ex__', '__repr__', '__setattr__', '__setstate__', '__sizeof__', '__str__', '__subclasshook__', '__weakref__', '_estimator_type', '_get_param_names', 'apply', 'base_score', 'booster', 'coef_', 'colsample_bylevel', 'colsample_bynode', 'colsample_bytree', 'evals_result', 'feature_importances_', 'fit', 'gamma', 'get_booster', 'get_num_boosting_rounds', 'get_params', 'get_xgb_params', 'importance_type', 'intercept_', 'kwargs', 'learning_rate', 'load_model', 'max_delta_step', 'max_depth', 'min_child_weight', 'missing', 'n_estimators', 'n_jobs', 'nthread', 'objective', 'predict', 'random_state', 'reg_alpha', 'reg_lambda', 'save_model', 'scale_pos_weight', 'score', 'seed', 'set_params', 'silent', 'subsample', 'verbosity']\n"
     ]
    }
   ],
   "source": [
    "xgb_reg = xgb.XGBRegressor(max_depth=3, learning_rate=0.1, n_estimators=100, silent=True, \n",
    "                 objective='reg:linear', gamma=0, min_child_weight=1, \n",
    "                 max_delta_step=0, subsample=1, colsample_bytree=1, \n",
    "                 seed=0, missing=None)"
   ]
  },
  {
   "cell_type": "code",
   "execution_count": 11,
   "metadata": {},
   "outputs": [
    {
     "name": "stderr",
     "output_type": "stream",
     "text": [
      "C:\\Users\\Mark\\AppData\\Local\\Continuum\\anaconda3\\lib\\site-packages\\xgboost\\core.py:587: FutureWarning: Series.base is deprecated and will be removed in a future version\n",
      "  if getattr(data, 'base', None) is not None and \\\n"
     ]
    },
    {
     "data": {
      "text/plain": [
       "XGBRegressor(base_score=0.5, booster='gbtree', colsample_bylevel=1,\n",
       "       colsample_bynode=1, colsample_bytree=1, gamma=0,\n",
       "       importance_type='gain', learning_rate=0.1, max_delta_step=0,\n",
       "       max_depth=3, min_child_weight=1, missing=None, n_estimators=100,\n",
       "       n_jobs=1, nthread=None, objective='reg:linear', random_state=0,\n",
       "       reg_alpha=0, reg_lambda=1, scale_pos_weight=1, seed=0, silent=True,\n",
       "       subsample=1, verbosity=1)"
      ]
     },
     "execution_count": 11,
     "metadata": {},
     "output_type": "execute_result"
    }
   ],
   "source": [
    "xgb_reg.fit(x_tr, y_tr)"
   ]
  },
  {
   "cell_type": "code",
   "execution_count": 12,
   "metadata": {},
   "outputs": [],
   "source": [
    "val_preds = xgb_reg.predict(x_ts)"
   ]
  },
  {
   "cell_type": "code",
   "execution_count": 16,
   "metadata": {},
   "outputs": [
    {
     "name": "stdout",
     "output_type": "stream",
     "text": [
      "Explained variance 0.8388814740360321\n",
      "\n",
      "The average difference between true values and predicted values is 65.01123788890875\n"
     ]
    }
   ],
   "source": [
    "print(f'Explained variance {explained_variance_score(y_ts, val_preds)}')\n",
    "print('')\n",
    "print(f'The average difference between true values and predicted values is {mean_absolute_error(y_ts, val_preds)}')"
   ]
  },
  {
   "cell_type": "markdown",
   "metadata": {},
   "source": [
    "This is close to the results we got after doing a grid search on the random forest model,\n",
    "it warrents a grid search of it's own."
   ]
  },
  {
   "cell_type": "code",
   "execution_count": 8,
   "metadata": {},
   "outputs": [],
   "source": [
    "xgb_grid = xgb.XGBRegressor(objective='reg:linear')\n",
    "param_grid = {\n",
    "    \"learning_rate\": [0.1, 0.2],\n",
    "    'max_depth': [3,4,5],\n",
    "    'min_child_weight': [10],\n",
    "    'subsample': [0.7, 1],\n",
    "    'n_estimators': [50, 100, 250],\n",
    "}\n",
    "\n",
    "grid_xgb = GridSearchCV(xgb_grid, param_grid, scoring='r2', cv=3, n_jobs=4, verbose=2)"
   ]
  },
  {
   "cell_type": "code",
   "execution_count": 9,
   "metadata": {},
   "outputs": [
    {
     "name": "stdout",
     "output_type": "stream",
     "text": [
      "Fitting 3 folds for each of 36 candidates, totalling 108 fits\n"
     ]
    },
    {
     "name": "stderr",
     "output_type": "stream",
     "text": [
      "[Parallel(n_jobs=4)]: Using backend LokyBackend with 4 concurrent workers.\n",
      "[Parallel(n_jobs=4)]: Done  33 tasks      | elapsed: 30.2min\n",
      "[Parallel(n_jobs=4)]: Done 108 out of 108 | elapsed: 114.2min finished\n",
      "C:\\Users\\Mark\\AppData\\Local\\Continuum\\anaconda3\\lib\\site-packages\\xgboost\\core.py:587: FutureWarning: Series.base is deprecated and will be removed in a future version\n",
      "  if getattr(data, 'base', None) is not None and \\\n"
     ]
    },
    {
     "name": "stdout",
     "output_type": "stream",
     "text": [
      "[00:10:12] WARNING: d:\\build\\xgboost\\xgboost-0.90.git\\src\\objective\\regression_obj.cu:152: reg:linear is now deprecated in favor of reg:squarederror.\n",
      "Wall time: 2h 1min 39s\n"
     ]
    },
    {
     "data": {
      "text/plain": [
       "GridSearchCV(cv=3, error_score='raise-deprecating',\n",
       "       estimator=XGBRegressor(base_score=0.5, booster='gbtree', colsample_bylevel=1,\n",
       "       colsample_bynode=1, colsample_bytree=1, gamma=0,\n",
       "       importance_type='gain', learning_rate=0.1, max_delta_step=0,\n",
       "       max_depth=3, min_child_weight=1, missing=None, n_estimators=100,\n",
       "       n_jobs=1, nthread=None, objective='reg:linear', random_state=0,\n",
       "       reg_alpha=0, reg_lambda=1, scale_pos_weight=1, seed=None,\n",
       "       silent=None, subsample=1, verbosity=1),\n",
       "       fit_params=None, iid='warn', n_jobs=4,\n",
       "       param_grid={'learning_rate': [0.1, 0.2], 'max_depth': [3, 4, 5], 'min_child_weight': [10], 'subsample': [0.7, 1], 'n_estimators': [50, 100, 250]},\n",
       "       pre_dispatch='2*n_jobs', refit=True, return_train_score='warn',\n",
       "       scoring='r2', verbose=2)"
      ]
     },
     "execution_count": 9,
     "metadata": {},
     "output_type": "execute_result"
    }
   ],
   "source": [
    "%%time\n",
    "grid_xgb.fit(x_tr, y_tr)"
   ]
  },
  {
   "cell_type": "code",
   "execution_count": 10,
   "metadata": {},
   "outputs": [
    {
     "name": "stdout",
     "output_type": "stream",
     "text": [
      "Grid Search found the following optimal parameters: \n",
      "learning_rate: 0.2\n",
      "max_depth: 5\n",
      "min_child_weight: 10\n",
      "n_estimators: 250\n",
      "subsample: 1\n"
     ]
    }
   ],
   "source": [
    "best_parameters = grid_xgb.best_params_\n",
    "\n",
    "print(\"Grid Search found the following optimal parameters: \")\n",
    "for param_name in sorted(best_parameters.keys()):\n",
    "    print(\"%s: %r\" % (param_name, best_parameters[param_name]))\n",
    "\n",
    "training_preds = grid_xgb.predict(x_tr)\n",
    "val_preds = grid_xgb.predict(x_ts)"
   ]
  },
  {
   "cell_type": "code",
   "execution_count": 13,
   "metadata": {},
   "outputs": [
    {
     "name": "stdout",
     "output_type": "stream",
     "text": [
      "Explained variance 0.8580126115154864\n",
      "\n",
      "The average difference between true values and predicted values is 56.71531492077808\n"
     ]
    }
   ],
   "source": [
    "print(f'Explained variance {explained_variance_score(y_ts, val_preds)}')\n",
    "print('')\n",
    "print(f'The average difference between true values and predicted values is {mean_absolute_error(y_ts, val_preds)}')"
   ]
  },
  {
   "cell_type": "code",
   "execution_count": 11,
   "metadata": {},
   "outputs": [],
   "source": [
    "# save the model to disk\n",
    "filename = 'xgboost.sav'\n",
    "pickle.dump(grid_xgb, open(filename, 'wb'))"
   ]
  },
  {
   "cell_type": "markdown",
   "metadata": {},
   "source": [
    "<h3> 2nd Run XGBoost </h3>"
   ]
  },
  {
   "cell_type": "code",
   "execution_count": 19,
   "metadata": {},
   "outputs": [],
   "source": [
    "xgb_grid = xgb.XGBRegressor(objective='reg:linear')\n",
    "param_grid = {\n",
    "    \"learning_rate\": [0.1, 0.2],\n",
    "    'max_depth': [4,5,6],\n",
    "    'min_child_weight': [10],\n",
    "    'subsample': [1, 2],\n",
    "    'n_estimators': [100, 250, 300],\n",
    "}\n",
    "\n",
    "grid_xgb2 = GridSearchCV(xgb_grid, param_grid, scoring='r2', cv=3, n_jobs=4, verbose=2)"
   ]
  },
  {
   "cell_type": "code",
   "execution_count": 30,
   "metadata": {},
   "outputs": [],
   "source": [
    "clf_xgb = xgb.XGBRegressor(objective = 'reg:linear')\n",
    "param_dist = {'n_estimators': [100, 250, 300],\n",
    "              'learning_rate': [0.2, 0.3],\n",
    "              'subsample': [0.6, 0.9],\n",
    "              'max_depth': [4, 5, 6, 7],\n",
    "              'min_child_weight': [4, 6, 10]\n",
    "             }\n",
    "\n",
    "clf = GridSearchCV(clf_xgb,\n",
    "             param_dist,\n",
    "             cv = 3,\n",
    "             scoring = 'r2', \n",
    "             error_score = 0, \n",
    "             verbose = 3, \n",
    "             n_jobs = -1)"
   ]
  },
  {
   "cell_type": "code",
   "execution_count": 31,
   "metadata": {},
   "outputs": [
    {
     "name": "stdout",
     "output_type": "stream",
     "text": [
      "Fitting 3 folds for each of 144 candidates, totalling 432 fits\n"
     ]
    },
    {
     "name": "stderr",
     "output_type": "stream",
     "text": [
      "[Parallel(n_jobs=-1)]: Using backend LokyBackend with 8 concurrent workers.\n",
      "[Parallel(n_jobs=-1)]: Done  16 tasks      | elapsed: 22.9min\n",
      "[Parallel(n_jobs=-1)]: Done 112 tasks      | elapsed: 173.2min\n",
      "[Parallel(n_jobs=-1)]: Done 272 tasks      | elapsed: 492.5min\n",
      "[Parallel(n_jobs=-1)]: Done 432 out of 432 | elapsed: 830.0min finished\n",
      "C:\\Users\\Mark\\AppData\\Local\\Continuum\\anaconda3\\lib\\site-packages\\xgboost\\core.py:587: FutureWarning: Series.base is deprecated and will be removed in a future version\n",
      "  if getattr(data, 'base', None) is not None and \\\n"
     ]
    },
    {
     "name": "stdout",
     "output_type": "stream",
     "text": [
      "[13:14:40] WARNING: d:\\build\\xgboost\\xgboost-0.90.git\\src\\objective\\regression_obj.cu:152: reg:linear is now deprecated in favor of reg:squarederror.\n",
      "Wall time: 14h 2min 40s\n"
     ]
    },
    {
     "data": {
      "text/plain": [
       "GridSearchCV(cv=3, error_score=0,\n",
       "       estimator=XGBRegressor(base_score=0.5, booster='gbtree', colsample_bylevel=1,\n",
       "       colsample_bynode=1, colsample_bytree=1, gamma=0,\n",
       "       importance_type='gain', learning_rate=0.1, max_delta_step=0,\n",
       "       max_depth=3, min_child_weight=1, missing=None, n_estimators=100,\n",
       "       n_jobs=1, nthread=None, objective='reg:linear', random_state=0,\n",
       "       reg_alpha=0, reg_lambda=1, scale_pos_weight=1, seed=None,\n",
       "       silent=None, subsample=1, verbosity=1),\n",
       "       fit_params=None, iid='warn', n_jobs=-1,\n",
       "       param_grid={'n_estimators': [100, 250, 300], 'learning_rate': [0.2, 0.3], 'subsample': [0.6, 0.9], 'max_depth': [4, 5, 6, 7], 'min_child_weight': [4, 6, 10]},\n",
       "       pre_dispatch='2*n_jobs', refit=True, return_train_score='warn',\n",
       "       scoring='r2', verbose=3)"
      ]
     },
     "execution_count": 31,
     "metadata": {},
     "output_type": "execute_result"
    }
   ],
   "source": [
    "%%time\n",
    "clf.fit(x_tr, y_tr)"
   ]
  },
  {
   "cell_type": "code",
   "execution_count": 33,
   "metadata": {},
   "outputs": [
    {
     "name": "stdout",
     "output_type": "stream",
     "text": [
      "Grid Search found the following optimal parameters: \n",
      "learning_rate: 0.3\n",
      "max_depth: 7\n",
      "min_child_weight: 10\n",
      "n_estimators: 300\n",
      "subsample: 0.9\n"
     ]
    }
   ],
   "source": [
    "best_parameters = clf.best_params_\n",
    "\n",
    "print(\"Grid Search found the following optimal parameters: \")\n",
    "for param_name in sorted(best_parameters.keys()):\n",
    "    print(\"%s: %r\" % (param_name, best_parameters[param_name]))\n",
    "\n",
    "training_preds = clf.predict(x_tr)\n",
    "val_preds = clf.predict(x_ts)"
   ]
  },
  {
   "cell_type": "markdown",
   "metadata": {},
   "source": [
    "Grid Search found the following optimal parameters: <br>\n",
    "learning_rate: 0.3 <br>\n",
    "max_depth: 7 <br> \n",
    "min_child_weight: 10 <br>\n",
    "n_estimators: 300 <br>\n",
    "subsample: 0.9 <br>"
   ]
  },
  {
   "cell_type": "code",
   "execution_count": 34,
   "metadata": {},
   "outputs": [
    {
     "name": "stdout",
     "output_type": "stream",
     "text": [
      "Explained variance 0.8730574440770459\n",
      "\n",
      "The average difference between true values and predicted values is 52.59745000632475\n"
     ]
    }
   ],
   "source": [
    "print(f'Explained variance {explained_variance_score(y_ts, val_preds)}')\n",
    "print('')\n",
    "print(f'The average difference between true values and predicted values is {mean_absolute_error(y_ts, val_preds)}')"
   ]
  },
  {
   "cell_type": "code",
   "execution_count": 52,
   "metadata": {},
   "outputs": [],
   "source": [
    "# save the model to disk\n",
    "filename = 'finalized_model.pkl'\n",
    "pickle.dump(clf, open(filename, 'wb'))"
   ]
  },
  {
   "cell_type": "code",
   "execution_count": 53,
   "metadata": {},
   "outputs": [],
   "source": [
    "# save scaler to disk\n",
    "scaler_file = 'scaler.pkl'\n",
    "pickle.dump(scaler, open(scaler_file, 'wb'))"
   ]
  },
  {
   "cell_type": "markdown",
   "metadata": {},
   "source": [
    "<h4> Standard Scaler XGBoost on Day Data </h4>\n",
    "\n",
    "setting train test variables to standard scaler preprocessing, see code above."
   ]
  },
  {
   "cell_type": "code",
   "execution_count": 80,
   "metadata": {},
   "outputs": [],
   "source": [
    "ss = preprocessing.StandardScaler()\n",
    "X_d_scale = ss.fit_transform(X_d)\n",
    "ss_d_scaler = ss.fit(X_d)\n",
    "x_tr, x_ts, y_tr, y_ts = train_test_split(X_d_scale, y_d, test_size= 0.3)"
   ]
  },
  {
   "cell_type": "code",
   "execution_count": 108,
   "metadata": {},
   "outputs": [],
   "source": [
    "xgb_day = xgb.XGBRegressor(objective = 'reg:linear')\n",
    "day_param_dist = {'n_estimators': [300],\n",
    "              'learning_rate': [0.3],\n",
    "              'subsample': [1, 1.5],\n",
    "              'max_depth': [6, 7],\n",
    "              'min_child_weight': [10, 12]\n",
    "             }\n",
    "\n",
    "day_clf = GridSearchCV(xgb_day,\n",
    "             day_param_dist,\n",
    "             cv = 3,\n",
    "             scoring = 'r2', \n",
    "             error_score = 0, \n",
    "             verbose = 3, \n",
    "             n_jobs = -1)"
   ]
  },
  {
   "cell_type": "code",
   "execution_count": 109,
   "metadata": {},
   "outputs": [
    {
     "name": "stdout",
     "output_type": "stream",
     "text": [
      "Fitting 3 folds for each of 8 candidates, totalling 24 fits\n"
     ]
    },
    {
     "name": "stderr",
     "output_type": "stream",
     "text": [
      "[Parallel(n_jobs=-1)]: Using backend LokyBackend with 8 concurrent workers.\n",
      "[Parallel(n_jobs=-1)]: Done  18 out of  24 | elapsed: 11.2min remaining:  3.7min\n",
      "[Parallel(n_jobs=-1)]: Done  24 out of  24 | elapsed: 18.3min finished\n",
      "C:\\Users\\Mark\\AppData\\Local\\Continuum\\anaconda3\\lib\\site-packages\\xgboost\\core.py:587: FutureWarning: Series.base is deprecated and will be removed in a future version\n",
      "  if getattr(data, 'base', None) is not None and \\\n"
     ]
    },
    {
     "name": "stdout",
     "output_type": "stream",
     "text": [
      "[15:30:23] WARNING: d:\\build\\xgboost\\xgboost-0.90.git\\src\\objective\\regression_obj.cu:152: reg:linear is now deprecated in favor of reg:squarederror.\n",
      "Wall time: 23min 19s\n"
     ]
    },
    {
     "data": {
      "text/plain": [
       "GridSearchCV(cv=3, error_score=0,\n",
       "       estimator=XGBRegressor(base_score=0.5, booster='gbtree', colsample_bylevel=1,\n",
       "       colsample_bynode=1, colsample_bytree=1, gamma=0,\n",
       "       importance_type='gain', learning_rate=0.1, max_delta_step=0,\n",
       "       max_depth=3, min_child_weight=1, missing=None, n_estimators=100,\n",
       "       n_jobs=1, nthread=None, objective='reg:linear', random_state=0,\n",
       "       reg_alpha=0, reg_lambda=1, scale_pos_weight=1, seed=None,\n",
       "       silent=None, subsample=1, verbosity=1),\n",
       "       fit_params=None, iid='warn', n_jobs=-1,\n",
       "       param_grid={'n_estimators': [300], 'learning_rate': [0.3], 'subsample': [1, 1.5], 'max_depth': [6, 7], 'min_child_weight': [10, 12]},\n",
       "       pre_dispatch='2*n_jobs', refit=True, return_train_score='warn',\n",
       "       scoring='r2', verbose=3)"
      ]
     },
     "execution_count": 109,
     "metadata": {},
     "output_type": "execute_result"
    }
   ],
   "source": [
    "%%time\n",
    "day_clf.fit(x_tr, y_tr)"
   ]
  },
  {
   "cell_type": "code",
   "execution_count": 110,
   "metadata": {},
   "outputs": [
    {
     "name": "stdout",
     "output_type": "stream",
     "text": [
      "Grid Search found the following optimal parameters: \n",
      "learning_rate: 0.3\n",
      "max_depth: 7\n",
      "min_child_weight: 12\n",
      "n_estimators: 300\n",
      "subsample: 1\n"
     ]
    }
   ],
   "source": [
    "best_parameters = ss_clf.best_params_\n",
    "\n",
    "print(\"Grid Search found the following optimal parameters: \")\n",
    "for param_name in sorted(best_parameters.keys()):\n",
    "    print(\"%s: %r\" % (param_name, best_parameters[param_name]))\n",
    "\n",
    "training_preds = day_clf.predict(x_tr)\n",
    "val_preds = day_clf.predict(x_ts)"
   ]
  },
  {
   "cell_type": "code",
   "execution_count": 111,
   "metadata": {},
   "outputs": [
    {
     "name": "stdout",
     "output_type": "stream",
     "text": [
      "Explained variance 0.7599354200310358\n",
      "\n",
      "The average difference between true values and predicted values is 105.14412103213962\n"
     ]
    }
   ],
   "source": [
    "print(f'Explained variance {explained_variance_score(y_ts, val_preds)}')\n",
    "print('')\n",
    "print(f'The average difference between true values and predicted values is {mean_absolute_error(y_ts, val_preds)}')"
   ]
  },
  {
   "cell_type": "code",
   "execution_count": 113,
   "metadata": {},
   "outputs": [],
   "source": [
    "# save the model to disk\n",
    "filename = 'day_model.pkl'\n",
    "pickle.dump(day_clf, open(filename, 'wb'))\n",
    "\n",
    "# save scaler to disk\n",
    "scaler_file = 'day_scaler.pkl'\n",
    "pickle.dump(ss_d_scaler, open(scaler_file, 'wb'))"
   ]
  },
  {
   "cell_type": "markdown",
   "metadata": {},
   "source": [
    "<h3> Temps might be over fitting... </h3>\n",
    "here's a try at the most strict subset yet."
   ]
  },
  {
   "cell_type": "code",
   "execution_count": 20,
   "metadata": {},
   "outputs": [],
   "source": [
    "ss = preprocessing.StandardScaler()\n",
    "X_d_scale = ss.fit_transform(X_d_nT)\n",
    "ss_d_scaler = ss.fit(X_d_nT)\n",
    "x_tr, x_ts, y_tr, y_ts = train_test_split(X_d_scale, y_d, test_size= 0.3)"
   ]
  },
  {
   "cell_type": "code",
   "execution_count": 25,
   "metadata": {},
   "outputs": [],
   "source": [
    "xgb_strict = xgb.XGBRegressor(objective = 'reg:squarederror')\n",
    "strict_param_dist = {'n_estimators': [250, 300],\n",
    "              'learning_rate': [0.25, 0.3],\n",
    "              'subsample': [1, 1.5],\n",
    "              'max_depth': [5, 6, 7],\n",
    "              'min_child_weight': [10, 12]\n",
    "             }\n",
    "\n",
    "strict_clf = GridSearchCV(xgb_strict,\n",
    "             strict_param_dist,\n",
    "             cv = 3,\n",
    "             scoring = 'r2', \n",
    "             error_score = 0, \n",
    "             verbose = 3, \n",
    "             n_jobs = -1)"
   ]
  },
  {
   "cell_type": "code",
   "execution_count": 26,
   "metadata": {},
   "outputs": [
    {
     "name": "stdout",
     "output_type": "stream",
     "text": [
      "Fitting 3 folds for each of 48 candidates, totalling 144 fits\n"
     ]
    },
    {
     "name": "stderr",
     "output_type": "stream",
     "text": [
      "[Parallel(n_jobs=-1)]: Using backend LokyBackend with 8 concurrent workers.\n",
      "[Parallel(n_jobs=-1)]: Done  16 tasks      | elapsed:  9.0min\n",
      "[Parallel(n_jobs=-1)]: Done 112 tasks      | elapsed: 77.2min\n",
      "[Parallel(n_jobs=-1)]: Done 144 out of 144 | elapsed: 103.8min finished\n",
      "C:\\Users\\Mark\\AppData\\Local\\Continuum\\anaconda3\\lib\\site-packages\\xgboost\\core.py:587: FutureWarning: Series.base is deprecated and will be removed in a future version\n",
      "  if getattr(data, 'base', None) is not None and \\\n"
     ]
    },
    {
     "name": "stdout",
     "output_type": "stream",
     "text": [
      "Wall time: 1h 51min 6s\n"
     ]
    },
    {
     "data": {
      "text/plain": [
       "GridSearchCV(cv=3, error_score=0,\n",
       "       estimator=XGBRegressor(base_score=0.5, booster='gbtree', colsample_bylevel=1,\n",
       "       colsample_bynode=1, colsample_bytree=1, gamma=0,\n",
       "       importance_type='gain', learning_rate=0.1, max_delta_step=0,\n",
       "       max_depth=3, min_child_weight=1, missing=None, n_estimators=100,\n",
       "       n_jobs=1, nthread=None, objective='reg:squarederror',\n",
       "       random_state=0, reg_alpha=0, reg_lambda=1, scale_pos_weight=1,\n",
       "       seed=None, silent=None, subsample=1, verbosity=1),\n",
       "       fit_params=None, iid='warn', n_jobs=-1,\n",
       "       param_grid={'n_estimators': [250, 300], 'learning_rate': [0.25, 0.3], 'subsample': [1, 1.5], 'max_depth': [5, 6, 7], 'min_child_weight': [10, 12]},\n",
       "       pre_dispatch='2*n_jobs', refit=True, return_train_score='warn',\n",
       "       scoring='r2', verbose=3)"
      ]
     },
     "execution_count": 26,
     "metadata": {},
     "output_type": "execute_result"
    }
   ],
   "source": [
    "%%time\n",
    "strict_clf.fit(x_tr, y_tr)"
   ]
  },
  {
   "cell_type": "code",
   "execution_count": 28,
   "metadata": {},
   "outputs": [
    {
     "name": "stdout",
     "output_type": "stream",
     "text": [
      "Grid Search found the following optimal parameters: \n",
      "learning_rate: 0.3\n",
      "max_depth: 7\n",
      "min_child_weight: 12\n",
      "n_estimators: 300\n",
      "subsample: 1\n"
     ]
    }
   ],
   "source": [
    "best_parameters = strict_clf.best_params_\n",
    "\n",
    "print(\"Grid Search found the following optimal parameters: \")\n",
    "for param_name in sorted(best_parameters.keys()):\n",
    "    print(\"%s: %r\" % (param_name, best_parameters[param_name]))\n",
    "\n",
    "training_preds = strict_clf.predict(x_tr)\n",
    "val_preds = strict_clf.predict(x_ts)"
   ]
  },
  {
   "cell_type": "code",
   "execution_count": 29,
   "metadata": {},
   "outputs": [
    {
     "name": "stdout",
     "output_type": "stream",
     "text": [
      "Explained variance 0.7736780107158592\n",
      "\n",
      "The average difference between true values and predicted values is 96.21308449342328\n"
     ]
    }
   ],
   "source": [
    "print(f'Explained variance {explained_variance_score(y_ts, val_preds)}')\n",
    "print('')\n",
    "print(f'The average difference between true values and predicted values is {mean_absolute_error(y_ts, val_preds)}')"
   ]
  },
  {
   "cell_type": "markdown",
   "metadata": {},
   "source": [
    "<h2> Saving Best </h2>"
   ]
  },
  {
   "cell_type": "code",
   "execution_count": 31,
   "metadata": {},
   "outputs": [],
   "source": [
    "# save the model to disk\n",
    "filename = 'strict_model.pkl'\n",
    "pickle.dump(strict_clf, open(filename, 'wb'))\n",
    "\n",
    "# save scaler to disk\n",
    "scaler_file = 'strict_scaler.pkl'\n",
    "pickle.dump(ss_d_scaler, open(scaler_file, 'wb'))"
   ]
  }
 ],
 "metadata": {
  "kernelspec": {
   "display_name": "Python 3",
   "language": "python",
   "name": "python3"
  },
  "language_info": {
   "codemirror_mode": {
    "name": "ipython",
    "version": 3
   },
   "file_extension": ".py",
   "mimetype": "text/x-python",
   "name": "python",
   "nbconvert_exporter": "python",
   "pygments_lexer": "ipython3",
   "version": "3.6.7"
  }
 },
 "nbformat": 4,
 "nbformat_minor": 2
}
